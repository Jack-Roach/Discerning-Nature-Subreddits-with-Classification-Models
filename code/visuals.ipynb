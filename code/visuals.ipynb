{
 "cells": [
  {
   "cell_type": "markdown",
   "metadata": {},
   "source": [
    "# Visual EDA"
   ]
  },
  {
   "cell_type": "code",
   "execution_count": 132,
   "metadata": {},
   "outputs": [],
   "source": [
    "#General Libraries\n",
    "import numpy as np\n",
    "import pandas as pd\n",
    "import matplotlib.pyplot as plt\n",
    "import seaborn as sns\n",
    "\n",
    "from sklearn.feature_extraction.text import CountVectorizer\n",
    "\n",
    "#Hiding Pink Warnings\n",
    "import sys\n",
    "if not sys.warnoptions:\n",
    "    import warnings\n",
    "    warnings.simplefilter(\"ignore\")"
   ]
  },
  {
   "cell_type": "code",
   "execution_count": 133,
   "metadata": {},
   "outputs": [],
   "source": [
    "data = pd.read_csv('../data/edited_data.csv')"
   ]
  },
  {
   "cell_type": "markdown",
   "metadata": {},
   "source": [
    "#### Replacing fire emoji with ' emote_fire ' so CountVectorizer() treats it as a word, using token patterns that prevent emojis from being filtered also allow other symbols such as \"/\" or \"-\" to be counted as words. The space on either side of the ' emote_fire ' ensures that each 🔥 is treated as a unique word for the sake of exploratory analysis."
   ]
  },
  {
   "cell_type": "code",
   "execution_count": 134,
   "metadata": {},
   "outputs": [
    {
     "data": {
      "text/html": [
       "<div>\n",
       "<style scoped>\n",
       "    .dataframe tbody tr th:only-of-type {\n",
       "        vertical-align: middle;\n",
       "    }\n",
       "\n",
       "    .dataframe tbody tr th {\n",
       "        vertical-align: top;\n",
       "    }\n",
       "\n",
       "    .dataframe thead th {\n",
       "        text-align: right;\n",
       "    }\n",
       "</style>\n",
       "<table border=\"1\" class=\"dataframe\">\n",
       "  <thead>\n",
       "    <tr style=\"text-align: right;\">\n",
       "      <th></th>\n",
       "      <th>subreddit</th>\n",
       "      <th>selftext</th>\n",
       "      <th>title</th>\n",
       "      <th>title_length</th>\n",
       "      <th>title_word_count</th>\n",
       "    </tr>\n",
       "  </thead>\n",
       "  <tbody>\n",
       "    <tr>\n",
       "      <th>9991</th>\n",
       "      <td>NatureIsFuckingLit</td>\n",
       "      <td>NaN</td>\n",
       "      <td>emote_fire  Trio of Hyacinth Macaws</td>\n",
       "      <td>25</td>\n",
       "      <td>5</td>\n",
       "    </tr>\n",
       "    <tr>\n",
       "      <th>9992</th>\n",
       "      <td>NatureIsFuckingLit</td>\n",
       "      <td>NaN</td>\n",
       "      <td>Beautiful mountains</td>\n",
       "      <td>19</td>\n",
       "      <td>2</td>\n",
       "    </tr>\n",
       "    <tr>\n",
       "      <th>9993</th>\n",
       "      <td>NatureIsFuckingLit</td>\n",
       "      <td>NaN</td>\n",
       "      <td>emote_fire  Eagle flying with a camera</td>\n",
       "      <td>28</td>\n",
       "      <td>6</td>\n",
       "    </tr>\n",
       "    <tr>\n",
       "      <th>9994</th>\n",
       "      <td>NatureIsFuckingLit</td>\n",
       "      <td>NaN</td>\n",
       "      <td>Art</td>\n",
       "      <td>3</td>\n",
       "      <td>1</td>\n",
       "    </tr>\n",
       "    <tr>\n",
       "      <th>9995</th>\n",
       "      <td>NatureIsFuckingLit</td>\n",
       "      <td>NaN</td>\n",
       "      <td>Anxiety healing, relaxing nature &amp;amp; calming...</td>\n",
       "      <td>54</td>\n",
       "      <td>7</td>\n",
       "    </tr>\n",
       "  </tbody>\n",
       "</table>\n",
       "</div>"
      ],
      "text/plain": [
       "               subreddit selftext  \\\n",
       "9991  NatureIsFuckingLit      NaN   \n",
       "9992  NatureIsFuckingLit      NaN   \n",
       "9993  NatureIsFuckingLit      NaN   \n",
       "9994  NatureIsFuckingLit      NaN   \n",
       "9995  NatureIsFuckingLit      NaN   \n",
       "\n",
       "                                                  title  title_length  \\\n",
       "9991                emote_fire  Trio of Hyacinth Macaws            25   \n",
       "9992                                Beautiful mountains            19   \n",
       "9993             emote_fire  Eagle flying with a camera            28   \n",
       "9994                                                Art             3   \n",
       "9995  Anxiety healing, relaxing nature &amp; calming...            54   \n",
       "\n",
       "      title_word_count  \n",
       "9991                 5  \n",
       "9992                 2  \n",
       "9993                 6  \n",
       "9994                 1  \n",
       "9995                 7  "
      ]
     },
     "execution_count": 134,
     "metadata": {},
     "output_type": "execute_result"
    }
   ],
   "source": [
    "data['title'] = data['title'].str.replace('🔥',' emote_fire ')\n",
    "data.tail(5)"
   ]
  },
  {
   "cell_type": "code",
   "execution_count": 135,
   "metadata": {},
   "outputs": [],
   "source": [
    "#Creating title datasets grouped by subreddit\n",
    "X = data['title'] #Both subreddits\n",
    "lit = data['title'][data['subreddit']==\"NatureIsFuckingLit\"] #Only titles from NatureIsFuckingLit\n",
    "metal = data['title'][data['subreddit']==\"natureismetal\"] #Only titles from NatureIsMetal\n",
    "\n",
    "#Instantiating Count Vectorizers\n",
    "cv1 = CountVectorizer(lowercase=True,stop_words='english',min_df=3)\n",
    "cv2 = CountVectorizer(lowercase=True,stop_words='english',min_df=3)\n",
    "cv3 = CountVectorizer(lowercase=True,stop_words='english',min_df=3)\n",
    "\n",
    "#transforming data into dummy columns representing each word\n",
    "X_cv = cv1.fit_transform(X).A\n",
    "lit_cv = cv2.fit_transform(lit).A\n",
    "metal_cv = cv3.fit_transform(metal).A\n",
    "\n",
    "#Getting feature names from each CountVectorizer\n",
    "feature_names1 = cv1.get_feature_names_out()\n",
    "feature_names2 = cv2.get_feature_names_out()\n",
    "feature_names3 = cv3.get_feature_names_out()\n",
    "\n",
    "X_cv = pd.DataFrame(X_cv, columns=feature_names1)\n",
    "lit_cv = pd.DataFrame(lit_cv, columns=feature_names2)\n",
    "metal_cv = pd.DataFrame(metal_cv, columns=feature_names3)"
   ]
  },
  {
   "cell_type": "code",
   "execution_count": 136,
   "metadata": {},
   "outputs": [
    {
     "data": {
      "text/plain": [
       "emote_fire    3367\n",
       "nature         315\n",
       "tree           288\n",
       "oc             281\n",
       "like           219\n",
       "eating         217\n",
       "bird           209\n",
       "park           207\n",
       "hawk           198\n",
       "fish           189\n",
       "dtype: int64"
      ]
     },
     "execution_count": 136,
     "metadata": {},
     "output_type": "execute_result"
    }
   ],
   "source": [
    "X_cv.sum().sort_values(ascending=False).head(10)"
   ]
  },
  {
   "cell_type": "code",
   "execution_count": 137,
   "metadata": {},
   "outputs": [],
   "source": [
    "X_cv.sum().sort_values(ascending=False).head(10)\n",
    "lit_cv.drop(columns='emote_fire').sum().sort_values(ascending=False).head(10)\n",
    "metal_cv.sum().sort_values(ascending=False).head(10);"
   ]
  },
  {
   "cell_type": "code",
   "execution_count": 138,
   "metadata": {},
   "outputs": [],
   "source": [
    "sns.set_palette('inferno')\n",
    "sns.set_style('white')"
   ]
  },
  {
   "cell_type": "code",
   "execution_count": 139,
   "metadata": {},
   "outputs": [
    {
     "data": {
      "image/png": "[encoded data removed]",
      "text/plain": [
       "<Figure size 576x432 with 1 Axes>"
      ]
     },
     "metadata": {
      "needs_background": "light"
     },
     "output_type": "display_data"
    }
   ],
   "source": [
    "plt.figure(figsize=(8,6),facecolor='none')\n",
    "lit_cv.drop(columns='emote_fire').sum().sort_values(ascending=False).head(25).plot(kind='barh',color='darkorange',width=0.8)\n",
    "plt.xlabel('Word Count')\n",
    "plt.title('Top 25 Most Common Words in r/NatureIsFuckingLit Post Titles');\n",
    "plt.savefig('../figures/top25_natureisfuckinglit.png')"
   ]
  },
  {
   "cell_type": "code",
   "execution_count": 140,
   "metadata": {},
   "outputs": [
    {
     "data": {
      "image/png": "[encoded data removed]",
      "text/plain": [
       "<Figure size 576x432 with 1 Axes>"
      ]
     },
     "metadata": {
      "needs_background": "light"
     },
     "output_type": "display_data"
    }
   ],
   "source": [
    "plt.figure(figsize=(8,6),facecolor='none')\n",
    "metal_cv.sum().sort_values(ascending=False).head(25).plot(kind='barh',color=['royalblue'],width=0.8);\n",
    "plt.xlabel('Word Count')\n",
    "plt.title('Top 25 Most Common Words in r/NatureIsMetal Post Titles')\n",
    "plt.savefig('../figures/top25_natureismetal.png')"
   ]
  },
  {
   "cell_type": "markdown",
   "metadata": {},
   "source": [
    "#### Displays the words that are part of both subreddit's top 25 most common words"
   ]
  },
  {
   "cell_type": "code",
   "execution_count": 141,
   "metadata": {},
   "outputs": [
    {
     "data": {
      "text/plain": [
       "baby      True\n",
       "like      True\n",
       "nature    True\n",
       "oc        True\n",
       "red       True\n",
       "tree      True\n",
       "dtype: bool"
      ]
     },
     "execution_count": 141,
     "metadata": {},
     "output_type": "execute_result"
    }
   ],
   "source": [
    "(metal_cv.sum().sort_values(ascending=False).head(25) & lit_cv.sum().sort_values(ascending=False).head(25))[\n",
    "    (metal_cv.sum().sort_values(ascending=False).head(25) & lit_cv.sum().sort_values(ascending=False).head(25))==True\n",
    "]"
   ]
  },
  {
   "cell_type": "markdown",
   "metadata": {},
   "source": [
    "#### Plotting the distribution of word frequencies"
   ]
  },
  {
   "cell_type": "code",
   "execution_count": 174,
   "metadata": {},
   "outputs": [
    {
     "data": {
      "image/png": "[encoded data removed]",
      "text/plain": [
       "<Figure size 432x288 with 1 Axes>"
      ]
     },
     "metadata": {},
     "output_type": "display_data"
    }
   ],
   "source": [
    "plt.hist(X_cv.sum().drop('emote_fire').sort_values(ascending=False),bins=40,log=True,color='darkgreen');\n",
    "plt.xlabel('Number of times a Word Appeared nature Sub Titles')\n",
    "plt.ylabel('Frequency Count (Logarithmic)')\n",
    "plt.title('Distribution of Word Frequencies in the Post Title Data');\n",
    "plt.savefig('../figures/word_frequency_distribution.png')"
   ]
  },
  {
   "cell_type": "markdown",
   "metadata": {},
   "source": [
    "### Coefs from Grid Search Logistic Regression w/CV model"
   ]
  },
  {
   "cell_type": "markdown",
   "metadata": {},
   "source": [
    "#### Inputted manually because jupyter crashed and I do not want to re-run the modeling.ipynb file in order to keep its outputs displayed on github"
   ]
  },
  {
   "cell_type": "code",
   "execution_count": 142,
   "metadata": {},
   "outputs": [
    {
     "data": {
      "text/html": [
       "<div>\n",
       "<style scoped>\n",
       "    .dataframe tbody tr th:only-of-type {\n",
       "        vertical-align: middle;\n",
       "    }\n",
       "\n",
       "    .dataframe tbody tr th {\n",
       "        vertical-align: top;\n",
       "    }\n",
       "\n",
       "    .dataframe thead th {\n",
       "        text-align: right;\n",
       "    }\n",
       "</style>\n",
       "<table border=\"1\" class=\"dataframe\">\n",
       "  <thead>\n",
       "    <tr style=\"text-align: right;\">\n",
       "      <th></th>\n",
       "      <th>word</th>\n",
       "      <th>coef</th>\n",
       "    </tr>\n",
       "  </thead>\n",
       "  <tbody>\n",
       "    <tr>\n",
       "      <th>0</th>\n",
       "      <td>metal</td>\n",
       "      <td>2.826435</td>\n",
       "    </tr>\n",
       "    <tr>\n",
       "      <th>1</th>\n",
       "      <td>tooth</td>\n",
       "      <td>2.145678</td>\n",
       "    </tr>\n",
       "    <tr>\n",
       "      <th>2</th>\n",
       "      <td>catfish</td>\n",
       "      <td>2.073406</td>\n",
       "    </tr>\n",
       "    <tr>\n",
       "      <th>3</th>\n",
       "      <td>zebra</td>\n",
       "      <td>2.021246</td>\n",
       "    </tr>\n",
       "    <tr>\n",
       "      <th>4</th>\n",
       "      <td>tonga</td>\n",
       "      <td>1.928061</td>\n",
       "    </tr>\n",
       "    <tr>\n",
       "      <th>5</th>\n",
       "      <td>dead</td>\n",
       "      <td>1.874156</td>\n",
       "    </tr>\n",
       "    <tr>\n",
       "      <th>6</th>\n",
       "      <td>music relaxation sounds</td>\n",
       "      <td>1.729165</td>\n",
       "    </tr>\n",
       "    <tr>\n",
       "      <th>7</th>\n",
       "      <td>devouring</td>\n",
       "      <td>1.638292</td>\n",
       "    </tr>\n",
       "    <tr>\n",
       "      <th>8</th>\n",
       "      <td>kill</td>\n",
       "      <td>1.633893</td>\n",
       "    </tr>\n",
       "    <tr>\n",
       "      <th>9</th>\n",
       "      <td>kills</td>\n",
       "      <td>1.633165</td>\n",
       "    </tr>\n",
       "    <tr>\n",
       "      <th>10</th>\n",
       "      <td>albino</td>\n",
       "      <td>-1.314921</td>\n",
       "    </tr>\n",
       "    <tr>\n",
       "      <th>11</th>\n",
       "      <td>complete</td>\n",
       "      <td>-1.335531</td>\n",
       "    </tr>\n",
       "    <tr>\n",
       "      <th>12</th>\n",
       "      <td>switzerland</td>\n",
       "      <td>-1.449784</td>\n",
       "    </tr>\n",
       "    <tr>\n",
       "      <th>13</th>\n",
       "      <td>easily</td>\n",
       "      <td>-1.470822</td>\n",
       "    </tr>\n",
       "    <tr>\n",
       "      <th>14</th>\n",
       "      <td>iceland</td>\n",
       "      <td>-1.498355</td>\n",
       "    </tr>\n",
       "    <tr>\n",
       "      <th>15</th>\n",
       "      <td>cloud</td>\n",
       "      <td>-1.499521</td>\n",
       "    </tr>\n",
       "    <tr>\n",
       "      <th>16</th>\n",
       "      <td>arizona</td>\n",
       "      <td>-1.576918</td>\n",
       "    </tr>\n",
       "    <tr>\n",
       "      <th>17</th>\n",
       "      <td>sunset</td>\n",
       "      <td>-1.664141</td>\n",
       "    </tr>\n",
       "    <tr>\n",
       "      <th>18</th>\n",
       "      <td>guide</td>\n",
       "      <td>-1.795370</td>\n",
       "    </tr>\n",
       "    <tr>\n",
       "      <th>19</th>\n",
       "      <td>lit</td>\n",
       "      <td>-1.933484</td>\n",
       "    </tr>\n",
       "  </tbody>\n",
       "</table>\n",
       "</div>"
      ],
      "text/plain": [
       "                       word      coef\n",
       "0                     metal  2.826435\n",
       "1                     tooth  2.145678\n",
       "2                   catfish  2.073406\n",
       "3                     zebra  2.021246\n",
       "4                     tonga  1.928061\n",
       "5                      dead  1.874156\n",
       "6   music relaxation sounds  1.729165\n",
       "7                 devouring  1.638292\n",
       "8                      kill  1.633893\n",
       "9                     kills  1.633165\n",
       "10                   albino -1.314921\n",
       "11                 complete -1.335531\n",
       "12              switzerland -1.449784\n",
       "13                   easily -1.470822\n",
       "14                  iceland -1.498355\n",
       "15                    cloud -1.499521\n",
       "16                  arizona -1.576918\n",
       "17                   sunset -1.664141\n",
       "18                    guide -1.795370\n",
       "19                      lit -1.933484"
      ]
     },
     "execution_count": 142,
     "metadata": {},
     "output_type": "execute_result"
    }
   ],
   "source": [
    "coefs = pd.DataFrame({\n",
    "    'word':['metal','tooth','catfish','zebra','tonga','dead','music relaxation sounds','devouring','kill','kills',\n",
    "           'albino','complete','switzerland','easily','iceland','cloud','arizona','sunset','guide','lit'],\n",
    "    'coef':[2.826435,2.145678,2.073406,2.021246,1.928061,1.874156,1.729165,1.638292,1.633893,1.633165,\n",
    "            -1.314921,-1.335531,-1.449784,-1.470822,-1.498355,-1.499521,-1.576918,-1.664141,-1.795370,-1.933484]  \n",
    "})\n",
    "coefs"
   ]
  },
  {
   "cell_type": "code",
   "execution_count": 143,
   "metadata": {},
   "outputs": [
    {
     "data": {
      "image/png": "[encoded data removed]",
      "text/plain": [
       "<Figure size 648x432 with 1 Axes>"
      ]
     },
     "metadata": {},
     "output_type": "display_data"
    }
   ],
   "source": [
    "plt.figure(figsize=(9,6))\n",
    "coef_plot = sns.barplot(data=coefs,y=\"word\",x=\"coef\",color='royalblue')\n",
    "coef_plot.axvline(x=0,color='red')\n",
    "plt.ylabel('Words', rotation=0,fontsize=20)\n",
    "plt.xlabel('Coefficients',fontsize=14)\n",
    "plt.title('Regression Coefficients Representing the Importance of a Word For Post Classification',fontsize=11)\n",
    "plt.savefig('../figures/coefficients.png')"
   ]
  },
  {
   "cell_type": "code",
   "execution_count": null,
   "metadata": {},
   "outputs": [],
   "source": []
  },
  {
   "cell_type": "code",
   "execution_count": null,
   "metadata": {},
   "outputs": [],
   "source": []
  }
 ],
 "metadata": {
  "kernelspec": {
   "display_name": "Python 3",
   "language": "python",
   "name": "python3"
  },
  "language_info": {
   "codemirror_mode": {
    "name": "ipython",
    "version": 3
   },
   "file_extension": ".py",
   "mimetype": "text/x-python",
   "name": "python",
   "nbconvert_exporter": "python",
   "pygments_lexer": "ipython3",
   "version": "3.7.4"
  }
 },
 "nbformat": 4,
 "nbformat_minor": 4
}
